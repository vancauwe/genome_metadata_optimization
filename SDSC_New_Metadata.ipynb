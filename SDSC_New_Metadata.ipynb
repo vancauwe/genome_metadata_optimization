{
 "cells": [
  {
   "cell_type": "code",
   "execution_count": null,
   "metadata": {},
   "outputs": [],
   "source": [
    "import sys\n",
    "sys.path.append(\"genome_metadata/scripts/\")\n",
    "from input_core_metadata import input_core_metadata\n",
    "from input_additional_metadata import input_additional_metadata"
   ]
  },
  {
   "cell_type": "markdown",
   "metadata": {},
   "source": [
    "# Step 1: Define Sequence Category\n",
    "\n",
    "Genome sequence: \n",
    "- MIGS-EU: Minimum information about a genome sequence for eukaryotes\n",
    "- MIGS-BA: Minimum information about a genome sequence for bacteria, archeae\n",
    "- MIGS-VI: Minimum information about a genome sequence for viral genome sequences\n",
    "- MIGS-ORG: Minimum information about a genome sequence for organelle sequences\n",
    "\n",
    "Metagenome sequence:\n",
    "- MIMS: Minimum information about a metagenome sequence\n",
    "\n",
    "Gene sequence:\n",
    "- MIMARKS-S: Minimum informationfor marker gene sequences obtained directly from the environment\n",
    "- MIMARKS-C: Minimum information for marker gene sequences from cultured or voucher-identifiable specimens\n",
    "\n",
    "Single Amplified genome sequence: \n",
    "- MISAG: Minimum information about a single amplified genome sequence\n",
    "\n",
    "Metagenome-assembled genome sequence: \n",
    "- MIMAG: Minimum information about a metagenome-assembled genome sequence\n",
    "\n",
    "Uncultivated virus genome: \n",
    "- MIUViG: Minimum Information about an Uncultivated Virus Genome"
   ]
  },
  {
   "cell_type": "code",
   "execution_count": null,
   "metadata": {},
   "outputs": [],
   "source": [
    "# PLEASE EDIT: (one of the above)\n",
    "sequence_category = \"INCOMPLETE\"\n",
    "\n",
    "# DO NOT EDIT\n",
    "path = \"genome_metadata/metadata/\"\n",
    "sequence_category = clean_sequence_category(seq_category)\n",
    "metadata_collection = path + sequence_category + \"_metadata_collection.json\""
   ]
  },
  {
   "cell_type": "markdown",
   "metadata": {},
   "source": [
    "# Step 2: Input your FASTA file (path and file name)"
   ]
  },
  {
   "cell_type": "markdown",
   "metadata": {},
   "source": [
    "**Prerequisite**\n",
    "\n",
    "Your FASTA file must be put in the folder `FASTA_files` folder. Naming is unimportant and will be standardized as soon as you input the core metadata for your FASTA file"
   ]
  },
  {
   "cell_type": "code",
   "execution_count": null,
   "metadata": {},
   "outputs": [],
   "source": [
    "# PLEASE EDIT: (and include the .fasta extension at the end of the file name)\n",
    "file_name = \"INCOMPLETE\"\n",
    "\n",
    "# DO NOT EDIT\n",
    "path = \"genome_metadata/FASTA_files/\"\n",
    "fasta_name = path + file_name"
   ]
  },
  {
   "cell_type": "markdown",
   "metadata": {},
   "source": [
    "# Step 3: Input Core Metadata \n",
    "\n",
    "**IMPORTANT CLARIFICATIONS**\n",
    "\n",
    "- TAXONOMY_ID: For the taxonomy, please feel free to refer to [the taxonomy defined by NCBI]( https://www.ncbi.nlm.nih.gov/Taxonomy/Browser/wwwtax.cgi)\n",
    "\n",
    "- ENVIRONMENT: where your sample was taken from. This can be a host tissue (host animal, human, and the associated organ) or a medium (air, river, ocean, mud etc.)\n",
    "\n",
    "- For any further questions: please read the standards' documentation [HERE](http://www.gensc.org/pages/standards/checklists.html)\n",
    "\n",
    "**GUIDELINES**:\n",
    "Please edit and complete all the `INCOMPLETE` you see below (keeping the quotation marks `\"\"`). Then, run the segment below. "
   ]
  },
  {
   "cell_type": "code",
   "execution_count": null,
   "metadata": {},
   "outputs": [],
   "source": [
    "# Please EDIT: \n",
    "\n",
    "#The name of your project\n",
    "project_name = \"INCOMPLETE\"\n",
    "\n",
    "#The name of the organism, the sample you collected\n",
    "sample_name = \"INCOMPLETE\"\n",
    "\n",
    "#The taxonomy ID, one of these : Archaea, Bacteria, Eukaryota, Viruses, Other, Unclassified\n",
    "taxonomy_ID = \"INCOMPLETE\"\n",
    "\n",
    "#The sequencing method you used to obtain your genomic sequence\n",
    "sequencing_method = \"INCOMPLETE\"\n",
    "\n",
    "#The date you collected your sample, in the format YYYY-MM-DD\n",
    "collection_date = \"INCOMPLETE\"\n",
    "\n",
    "#The geographic information for your sample\n",
    "geographic_latitude = \"INCOMPLETE\"\n",
    "geographic_longitude = \"INCOMPLETE\"\n",
    "geographic_location = \"INCOMPLETE\"\n",
    "geographic_country = \"INCOMPLETE\"\n",
    "\n",
    "#The environment your sample was collected in\n",
    "environment = \"INCOMPLETE\"\n",
    "\n",
    "# DO NOT EDIT !!\n",
    "input_core_metadata(metadata_collection,\n",
    "                    fasta_name,\n",
    "                    project_name,\n",
    "                    sample_name,\n",
    "                    taxonomy_ID,\n",
    "                    sequencing_method,\n",
    "                    collection_date,\n",
    "                    geographic_latitude,\n",
    "                    geographic_longitude,\n",
    "                    geographic_location,\n",
    "                    geographic_country,\n",
    "                    environment)"
   ]
  },
  {
   "cell_type": "markdown",
   "metadata": {},
   "source": [
    "# Step 3: Input Additional Metadata"
   ]
  },
  {
   "cell_type": "code",
   "execution_count": null,
   "metadata": {},
   "outputs": [],
   "source": [
    "# Please COMPLETE: MANDATORY\n",
    "sequence_category = \"INCOMPLETE\"\n",
    "metadata_collection = \"INCOMPLETE\"\n",
    "fasta_name = \"INCOMPLETE\"\n",
    "\n",
    "# Please Complete what is relevant to your sequence category\n",
    "assembly_quality = \"INCOMPLETE\"\n",
    "assembly_software = \"INCOMPLETE\"\n",
    "binning_parameters = \"INCOMPLETE\"\n",
    "binning_software = \"INCOMPLETE\"\n",
    "completeness_score = \"INCOMPLETE\"\n",
    "completeness_software = \"INCOMPLETE\"\n",
    "contamination_score = \"INCOMPLETE\"\n",
    "isolation_and_growth_condition = \"INCOMPLETE\"\n",
    "number_of_contigs = \"INCOMPLETE\"\n",
    "number_of_replicons = \"INCOMPLETE\"\n",
    "reference_for_biomaterial = \"INCOMPLETE\"\n",
    "single_cell_lysis_approach = \"INCOMPLETE\"\n",
    "source_of_uvigs = \"INCOMPLETE\"\n",
    "sorting_technology = \"INCOMPLETE\"\n",
    "target_gene = \"INCOMPLETE\"\n",
    "taxonomic_identity_marker = \"INCOMPLETE\"\n",
    "virus_enrichment_approach = \"INCOMPLETE\"\n",
    "wga_amplification_approach = \"INCOMPLETE\"\n",
    "  \n",
    "\n",
    "# DO NOT EDIT !!\n",
    "\n",
    "input_additional_metadata(sequence_category,\n",
    "                              metadata_collection,\n",
    "                              fasta_name,\n",
    "                              assembly_quality,\n",
    "                              assembly_software,\n",
    "                              binning_parameters,\n",
    "                              binning_software,\n",
    "                              completeness_score,\n",
    "                              completeness_software,\n",
    "                              contamination_score,\n",
    "                              isolation_and_growth_condition,\n",
    "                              number_of_contigs,\n",
    "                              number_of_replicons,\n",
    "                              reference_for_biomaterial,\n",
    "                              single_cell_lysis_approach,\n",
    "                              source_of_uvigs,\n",
    "                              sorting_technology,\n",
    "                              target_gene,\n",
    "                              taxonomic_identity_marker,\n",
    "                              virus_enrichment_approach,\n",
    "                              wga_amplification_approach)"
   ]
  }
 ],
 "metadata": {
  "kernelspec": {
   "display_name": "Python [conda env:ada]",
   "language": "python",
   "name": "conda-env-ada-py"
  },
  "language_info": {
   "codemirror_mode": {
    "name": "ipython",
    "version": 3
   },
   "file_extension": ".py",
   "mimetype": "text/x-python",
   "name": "python",
   "nbconvert_exporter": "python",
   "pygments_lexer": "ipython3",
   "version": "3.6.8"
  }
 },
 "nbformat": 4,
 "nbformat_minor": 2
}
