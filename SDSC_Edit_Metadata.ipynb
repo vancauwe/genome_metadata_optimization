{
 "cells": [
  {
   "cell_type": "code",
   "execution_count": null,
   "metadata": {},
   "outputs": [],
   "source": [
    "import sys\n",
    "sys.path.append(\"genome_metadata/scripts/\")\n",
    "from edit_metadata_field import edit_metadata_field\n",
    "from standardize_fasta_name import standardize_fasta_name\n",
    "from list_metadata_collection import list_metadata_collection\n",
    "from extract_specific_metadata import extract_specific_metadata"
   ]
  },
  {
   "cell_type": "markdown",
   "metadata": {},
   "source": [
    "# Edit a Field of a metadata entry"
   ]
  },
  {
   "cell_type": "code",
   "execution_count": null,
   "metadata": {},
   "outputs": [],
   "source": [
    "# PLEASE COMPLETE\n",
    "metadata_collection = \"INCOMPLETE\",\n",
    "fasta_name = \"INCOMPLETE\",\n",
    "field = \"INCOMPLETE\",\n",
    "new_value = \"INCOMPLETE\"\n",
    "\n",
    "# DO NOT EDIT \n",
    "edit_metadata_field(metadata_collection,\n",
    "                       fasta_name,\n",
    "                       field,\n",
    "                       new_value)"
   ]
  },
  {
   "cell_type": "markdown",
   "metadata": {},
   "source": [
    "# Standardize the name of a FASTA file based on its metadata \n",
    "\n",
    "This would be the case where you have entered metadata manually into the metadata collection and would like to rename its FASTA file."
   ]
  },
  {
   "cell_type": "code",
   "execution_count": null,
   "metadata": {},
   "outputs": [],
   "source": [
    "# PLEASE COMPLETE\n",
    "# only the name of the collection is needed (format: name.json)\n",
    "metadata_collection = \"INCOMPLETE\"\n",
    "# only the name of the file is needed (format: name.fasta)\n",
    "unstandardized_fasta_name = \"INCOMPLETE\"\n",
    "\n",
    "# DO NOT EDIT\n",
    "standardize_fasta_name(metadata_collection = \"genome_metadata/metadata/\" + metadata_collection,\n",
    "                       fasta_name = \"genome_metadata/FASTA_files/\" + unstandardized_fasta_name)"
   ]
  },
  {
   "cell_type": "markdown",
   "metadata": {},
   "source": [
    "# Access metadata collection\n"
   ]
  },
  {
   "cell_type": "code",
   "execution_count": null,
   "metadata": {},
   "outputs": [],
   "source": [
    "# PLEASE COMPLETE\n",
    "metadata_collection = \"INCOMPLETE\"\n",
    "\n",
    "# DO NOT EDIT\n",
    "list_metadata_collection(metadata_collection)"
   ]
  },
  {
   "cell_type": "markdown",
   "metadata": {},
   "source": [
    "# Select all metadata based on a criteria\n"
   ]
  },
  {
   "cell_type": "code",
   "execution_count": null,
   "metadata": {},
   "outputs": [],
   "source": [
    "# PLEASE COMPLETE\n",
    "metadata_collection = \"INCOMPLETE\"\n",
    "field = 'INCOMPLETE'\n",
    "value = 'INCOMPLETE'\n",
    "\n",
    "# DO NOT EDIT\n",
    "extraction = extract_specific_metadata(metadata_collection,\n",
    "                                              field,\n",
    "                                              value)"
   ]
  }
 ],
 "metadata": {
  "kernelspec": {
   "display_name": "Python [conda env:ada]",
   "language": "python",
   "name": "conda-env-ada-py"
  },
  "language_info": {
   "codemirror_mode": {
    "name": "ipython",
    "version": 3
   },
   "file_extension": ".py",
   "mimetype": "text/x-python",
   "name": "python",
   "nbconvert_exporter": "python",
   "pygments_lexer": "ipython3",
   "version": "3.6.8"
  }
 },
 "nbformat": 4,
 "nbformat_minor": 2
}
