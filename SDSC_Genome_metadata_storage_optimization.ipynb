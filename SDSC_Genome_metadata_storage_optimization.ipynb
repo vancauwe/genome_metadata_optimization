{
 "cells": [
  {
   "cell_type": "code",
   "execution_count": null,
   "metadata": {},
   "outputs": [],
   "source": [
    "import sys\n",
    "sys.path.append(\"genome_metadata/scripts/\")\n",
    "import json\n",
    "# library used to generate fake fasta files\n",
    "from pysam import FastaFile\n",
    "from input_core_metadata import input_core_metadata\n",
    "from input_additional_metadata import input_additional_metadata\n",
    "from edit_metadata_field import edit_metadata_field\n",
    "from standardize_fasta_name import standardize_fasta_name\n",
    "from list_metadata_collection import list_metadata_collection\n",
    "from extract_specific_metadata import extract_specific_metadata"
   ]
  },
  {
   "cell_type": "markdown",
   "metadata": {},
   "source": [
    "# Goals\n",
    "\n",
    "- In a heterogenous collection of FASTA files, retrieve what every genome represents and how it was obtained.\n",
    "- Respect FAIR principals (Findability, Accessibility, Interoperability, and Reuse of digital assets)"
   ]
  },
  {
   "cell_type": "markdown",
   "metadata": {},
   "source": [
    "# State of the Art"
   ]
  },
  {
   "cell_type": "markdown",
   "metadata": {},
   "source": [
    "### Why is is important? \n",
    "\n",
    "The metadata annotation is critical to inform on data collection variables which could potentially impact survey results. The meta data should describe: the sample source, tissue collection method, the environment, DNA extraction method and the sequence library preparation.\n",
    "\n",
    "### What are the existing standards?\n",
    "\n",
    "- MIGS: Minimum information about a genome sequence\n",
    "- MIMS: Minimum information about a metagenome sequence\n",
    "- MIMARKS: Minimum information about a marker gene sequence\n",
    "- MISAG: Minimum information about a single amplified genome sequence\n",
    "- MIMAG: Minimum information about a metagenome-assembled genome sequence\n",
    "- MIUViG: Minimum Information about an Uncultivated Virus Genome\n",
    "\n",
    "All checklists listed above **share the same central set of core (Minimum) descriptors**, which are: Project name, Sample name, Taxonomy ID of DNA sample, Geographic location (latitude and longitude), Geographic location (country and/or sea,region), Collection date, Environment (biome, feature, and material), Sequencing method. BUT for each of the different sequence categories, there are **different additional checklist descriptors** which are mandatory. \n"
   ]
  },
  {
   "cell_type": "markdown",
   "metadata": {},
   "source": [
    "# Generating fake FASTA files\n",
    "\n",
    "For generating fake FASTA files, I ran the following command line in my terminal : \n",
    "`python fastq_generator.py generate_fasta Chr1 1000 > chr1.fasta`\n",
    "\n",
    "Where `generate_fasta` is the function, `Chr` is the name of the sequence and `1000` is the length of the sequence. `chr1.fasta` is the name of the resulting FASTA file. \n",
    "\n",
    "In coherence with the different existing categories of sequences, I created 2 (reduced-size) fasta files for each category. These files do not aim to represent loyaly the sequence type and are only used for further manipulations.\n",
    "\n",
    "Below is an example of how to read in one such file. "
   ]
  },
  {
   "cell_type": "code",
   "execution_count": null,
   "metadata": {},
   "outputs": [],
   "source": [
    "fasta = \"genome_metadata/FASTA_files/single_amplified_genome2.fasta\"\n",
    "# read FASTA file\n",
    "sequences_object = FastaFile(fasta)\n",
    "sequences_object.fetch(\"sequence\")"
   ]
  },
  {
   "cell_type": "markdown",
   "metadata": {},
   "source": [
    "# Part 1: Enter metadata for a new FASTA file"
   ]
  },
  {
   "cell_type": "markdown",
   "metadata": {},
   "source": [
    "## Exploring how to organize metadata collections\n"
   ]
  },
  {
   "cell_type": "code",
   "execution_count": null,
   "metadata": {},
   "outputs": [],
   "source": [
    "# example of a metadata collection (a dictionary of dictionaries, stored as a JSON) \n",
    "# where only the core descriptors are completed \n",
    "# (due to time constraints and my lack of knowledge for certain fields)\n",
    "\n",
    "metadata_collection = {\n",
    "    # Example of a metadata entry for MIGS-BA\n",
    "   \"genome1.fasta\" : \n",
    "    {\n",
    "        \"project name\": \"extreme_environments\",\n",
    "        \"sample name\": \"thermofilum_pendens\",\n",
    "        \"taxonomy ID\": \"archeae\",\n",
    "        \"sequencing method\": \"16S\",\n",
    "        \"collection date\": \"2022-10-18\",\n",
    "        \"geographic latitude\": 55,\n",
    "        \"geographic longitude\": 21,\n",
    "        \"geographic location\": \"piton_de_la_fournaise_volcano\",\n",
    "        \"geographic country\": \"la_reunion\",\n",
    "        \"environment\": \"volcan_lava\",\n",
    "        \"number of replicons\" : \"NA\",\n",
    "        \"reference for biomaterial\" : \"NA\",\n",
    "        \"isolation and growth condition\" : \"NA\",\n",
    "        \"assembly quality\" : \"NA\",\n",
    "        \"assembly software\" : \"NA\",\n",
    "        \"number of contigs\" : \"NA\",\n",
    "        \"extra comments\": \"None\"\n",
    "   },\n",
    "    # Example of a metadata entry for MISAG\n",
    "    \"single_amplified_genome.fasta\" : \n",
    "    {\n",
    "        \"project name\": \"stem_cells_under_pressure\",\n",
    "        \"sample name\": \"stem_cell\",\n",
    "        \"taxonomy ID\": \"eukaryota\",\n",
    "        \"sequencing method\": \"RNA-seq\",\n",
    "        \"collection date\": \"2021-08-03\",\n",
    "        \"geographic latitude\": 46,\n",
    "        \"geographic longitude\": 6,\n",
    "        \"geographic location\": \"hopital_universitaire_geneve\",\n",
    "        \"geographic country\": \"switzerland\",\n",
    "        \"environment\": \"liver\",\n",
    "        \"taxonomic identity marker\" : \"NA\",\n",
    "        \"assembly quality\" : \"NA\",\n",
    "        \"assembly software\" : \"NA\",\n",
    "        \"completeness score\" : \"NA\",\n",
    "        \"completeness software\" : \"NA\",\n",
    "        \"contamination score\" : \"NA\",\n",
    "        \"sorting technology\" : \"NA\",\n",
    "        \"single cell lysis approach\" : \"NA\",\n",
    "        \"WGA amplification approach\" : \"NA\",\n",
    "        \"extra comments\": \"None\"\n",
    "   }\n",
    "    \n",
    "    # etc. etc. \n",
    "    \n",
    "}\n"
   ]
  },
  {
   "cell_type": "markdown",
   "metadata": {},
   "source": [
    "### A few comments on such a collection: \n",
    "\n",
    "**Everything in one place**. BUT **heterogenity of the data standards**. This can be source to incompleteness and incoherence further on. \n",
    "\n",
    "For this reason, **I have opted for 1 metadata collection per sequence category**. \n",
    "\n",
    "**Challenge at hand**: different additional data for each standard \n",
    "**Please Note: Strong possibility for further automation.** It would be better if some of the input data was not left as free text and instead was matched to a codebook. For example:\n",
    "\n",
    "- the sample name\n",
    "- the taxonomy ID, \n",
    "- the sequencing method\n",
    "- the geographic country\n",
    "\n",
    "This was not implemented due to time constraints. "
   ]
  },
  {
   "cell_type": "markdown",
   "metadata": {},
   "source": [
    "## A standard naming procedure \n",
    "For a standard naming, we should use fields that can be easily comparable between all files. This means we would want fields that we can automate such as the sequencing method, the date, the taxonomy ID and the sample name. In addition, we need one free text field, which makes the naming unique. We would choose the project name, making sure to clean the string before hand.  "
   ]
  },
  {
   "cell_type": "markdown",
   "metadata": {},
   "source": [
    "## Core vs Additional Metadata \n",
    "\n",
    "- The core data is requested for all FASTA files\n",
    "\n",
    "- The additional data is unique to each sequence category. In the User Notebook, only an example is given for MIGS-BA, one must imagine the same structure for other sequence categories"
   ]
  },
  {
   "cell_type": "markdown",
   "metadata": {},
   "source": [
    "## User Notebook\n",
    "\n",
    "The user-side of this implementation can be found in `SDSC_New_Metadata` notebook. The idea is for the notebook to run on its own with users completing the `\"INCOMPLETE\"` fields. \n",
    "\n",
    "Some checks and cleaning are implemented regarding their inputs but more could be done. \n",
    "\n",
    "A notebook was chosen for its visual aspect (compared to a terminal for example), and for the fact that its input is more easy to control than sourcing from an external CSV (where columns can be changed by the user). The most ideal would be a GUI, see limitations and next steps in the final section. "
   ]
  },
  {
   "cell_type": "markdown",
   "metadata": {},
   "source": [
    "### Example of adding core metadata\n",
    "\n",
    "Try out the example below !"
   ]
  },
  {
   "cell_type": "code",
   "execution_count": null,
   "metadata": {},
   "outputs": [],
   "source": [
    "metadata_collection = \"genome_metadata/metadata/migs_ba_metadata_collection.json\"\n",
    "fasta_name = \"genome_metadata/FASTA_files/archeae.fasta\"\n",
    "project_name = \"extreme_environments\"\n",
    "sample_name = \"thermofilum_pendens\"\n",
    "taxonomy_ID = \"archeae\"\n",
    "sequencing_method = \"16S\"\n",
    "collection_date = \"2020-01-06\"\n",
    "geographic_latitude = \"55\"\n",
    "geographic_longitude = \"21\"\n",
    "geographic_location = \"Piton de la fournaise Volcano\"\n",
    "geographic_country = \"La reunion\"\n",
    "environment = \"volcano\"\n",
    "\n",
    "input_core_metadata(metadata_collection,\n",
    "                    fasta_name,\n",
    "                    project_name,\n",
    "                    sample_name,\n",
    "                    taxonomy_ID,\n",
    "                    sequencing_method,\n",
    "                    collection_date,\n",
    "                    geographic_latitude,\n",
    "                    geographic_longitude,\n",
    "                    geographic_location,\n",
    "                    geographic_country,\n",
    "                    environment)"
   ]
  },
  {
   "cell_type": "markdown",
   "metadata": {},
   "source": [
    "### Example of adding additional metadata\n",
    "\n",
    "Try out the example below!"
   ]
  },
  {
   "cell_type": "code",
   "execution_count": null,
   "metadata": {},
   "outputs": [],
   "source": [
    "input_additional_metadata(sequence_category = \"MIUVIG\",\n",
    "                              metadata_collection = \"genome_metadata/metadata/miuvig_metadata_collection.json\",\n",
    "                              fasta_name = \"genome_metadata/FASTA_files/2015_02_16_taxonomy13_sample66_methodi.fasta\",\n",
    "                              assembly_quality = \"INCOMPLETE\",\n",
    "                              assembly_software = \"INCOMPLETE\",\n",
    "                              binning_parameters = \"INCOMPLETE\",\n",
    "                              binning_software = \"INCOMPLETE\",\n",
    "                              completeness_score = \"INCOMPLETE\",\n",
    "                              completeness_software = \"INCOMPLETE\",\n",
    "                              contamination_score = \"INCOMPLETE\",\n",
    "                              isolation_and_growth_condition = \"INCOMPLETE\",\n",
    "                              number_of_contigs = \"INCOMPLETE\",\n",
    "                              number_of_replicons = \"INCOMPLETE\",\n",
    "                              reference_for_biomaterial = \"INCOMPLETE\",\n",
    "                              single_cell_lysis_approach = \"INCOMPLETE\",\n",
    "                              source_of_uvigs = \"source88\",\n",
    "                              sorting_technology = \"INCOMPLETE\",\n",
    "                              target_gene = \"INCOMPLETE\",\n",
    "                              taxonomic_identity_marker = \"INCOMPLETE\",\n",
    "                              virus_enrichment_approach = \"enrichment99\",\n",
    "                              wga_amplification_approach = \"INCOMPLETE\")"
   ]
  },
  {
   "cell_type": "markdown",
   "metadata": {},
   "source": [
    "# Part 2: Edit & Access"
   ]
  },
  {
   "cell_type": "markdown",
   "metadata": {},
   "source": [
    "## Edit field to the meta data\n",
    "\n",
    "An example below:"
   ]
  },
  {
   "cell_type": "code",
   "execution_count": null,
   "metadata": {},
   "outputs": [],
   "source": [
    "edit_metadata_field(metadata_collection = \"genome_metadata/metadata/migs_eu_metadata_collection.json\",\n",
    "                       fasta_name = \"2022_09_19_taxonomy3_sample1_methodb.fasta\",\n",
    "                       field = \"collection date\",\n",
    "                       new_value = \"2022-10-19\")"
   ]
  },
  {
   "cell_type": "markdown",
   "metadata": {},
   "source": [
    "## Standardize the naming of an existing FASTA file\n",
    "\n",
    "Example: "
   ]
  },
  {
   "cell_type": "code",
   "execution_count": null,
   "metadata": {},
   "outputs": [],
   "source": [
    "metadata_collection = \"mimag_metadata_collection.json\" \n",
    "unstandardized_fasta_name = \"mimag_seq.fasta\"\n",
    "\n",
    "standardize_fasta_name(metadata_collection = \"genome_metadata/metadata/\" + metadata_collection,\n",
    "                       fasta_name = \"FASTA_files/\" + unstandardized_fasta_name)"
   ]
  },
  {
   "cell_type": "markdown",
   "metadata": {},
   "source": [
    "## Allow to access existing genomes and their metadata easily\n",
    "\n",
    "### List all metadata present in the metadata collection"
   ]
  },
  {
   "cell_type": "code",
   "execution_count": null,
   "metadata": {},
   "outputs": [],
   "source": [
    "metadata_collection = \"genome_metadata/metadata/mimarks_s_metadata_collection.json\"\n",
    "list_metadata_collection(metadata_collection)"
   ]
  },
  {
   "cell_type": "markdown",
   "metadata": {},
   "source": [
    "### List all FASTA based on a field equal to a value"
   ]
  },
  {
   "cell_type": "code",
   "execution_count": null,
   "metadata": {},
   "outputs": [],
   "source": [
    "metadata_collection = \"genome_metadata/metadata/misag_metadata_collection.json\"\n",
    "field = 'collection date'\n",
    "value = '2000-06-01'\n",
    "\n",
    "extraction = extract_specific_metadata(metadata_collection,\n",
    "                                              field,\n",
    "                                              value)"
   ]
  },
  {
   "cell_type": "markdown",
   "metadata": {},
   "source": [
    "# Limitations and Theoretical Next Steps\n",
    "\n",
    "- **Optimizing with reference dictionaries / codebooks**\n",
    "\n",
    "It would be better if some of the input data was not left as free text but instead was matched to a codebook. For example, the taxonomy ID, the sequencing method, and the geographic country. \n",
    "\n",
    "- **Getting the metadata from the sequences of the FASTA file:** \n",
    "\n",
    "Based on known specificities of each metagenome, one can imagine parsing the FASTA files to look for specific genomic sequences (viral, bacterial, human, etc) to try and autocomplete some of the fields of the metadata. Of course, this information would have to be validated by a specialist of the domain. A quick example: bacterias have a 16S rRNA sequence. If it is present within the FASTA file, then we are definitely dealing with a bacterial sequencing. \n",
    "\n",
    "- **Crucial: Creating a user interface rather than a notebook for users**\n",
    "\n",
    "Using a jupyter notebook requires some knowledge of the terminal, python and other coding aspects. Having a simple GUI (Shiny for Python) or data collection system with obligatory fields (RedCap, ODK Cloud). A GUI like the METAGENOTE one seems quite nice. \n",
    "\n",
    "- **Batch processing**\n",
    "\n",
    "For the moment files are processed one at a time. It would be ideal to make a pipeline to process multiple ones. A script could do so but due to time constraints, this could not be explored \n"
   ]
  },
  {
   "cell_type": "markdown",
   "metadata": {},
   "source": [
    "# References \n",
    "\n",
    "- METAGENOTE: a simplified web platform for metadata annotation of genomic samples and streamlined submission to NCBI’s sequence read archive. (Quinones et al.) https://bmcbioinformatics.biomedcentral.com/articles/10.1186/s12859-020-03694-0\n",
    "\n",
    "- METAGENOTE: https://metagenote.niaid.nih.gov/\n",
    "\n",
    "- GenomicStandardsConsortium: http://www.gensc.org/pages/standards/checklists.html\n",
    "\n",
    "- Synthetic FASTA files: https://github.com/johanzi/fastq_generator#usage"
   ]
  },
  {
   "cell_type": "code",
   "execution_count": null,
   "metadata": {},
   "outputs": [],
   "source": []
  }
 ],
 "metadata": {
  "kernelspec": {
   "display_name": "Python [conda env:ada]",
   "language": "python",
   "name": "conda-env-ada-py"
  },
  "language_info": {
   "codemirror_mode": {
    "name": "ipython",
    "version": 3
   },
   "file_extension": ".py",
   "mimetype": "text/x-python",
   "name": "python",
   "nbconvert_exporter": "python",
   "pygments_lexer": "ipython3",
   "version": "3.6.8"
  }
 },
 "nbformat": 4,
 "nbformat_minor": 2
}
